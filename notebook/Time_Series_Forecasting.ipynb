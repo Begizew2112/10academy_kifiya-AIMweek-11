{
 "cells": [
  {
   "cell_type": "code",
   "execution_count": 6,
   "metadata": {},
   "outputs": [],
   "source": [
    "import numpy as np\n",
    "import pandas as pd\n",
    "from statsmodels.tsa.arima.model import ARIMA\n",
    "from statsmodels.tsa.holtwinters import ExponentialSmoothing\n",
    "#from fbprophet import Prophet\n",
    "from sklearn.metrics import mean_squared_error, mean_absolute_percentage_error\n",
    "from math import sqrt "
   ]
  },
  {
   "cell_type": "code",
   "execution_count": 7,
   "metadata": {},
   "outputs": [
    {
     "name": "stderr",
     "output_type": "stream",
     "text": [
      "c:\\Users\\Yibabe\\Desktop\\10academy_kifiya-AIMweek-11\\env\\Lib\\site-packages\\tqdm\\auto.py:21: TqdmWarning: IProgress not found. Please update jupyter and ipywidgets. See https://ipywidgets.readthedocs.io/en/stable/user_install.html\n",
      "  from .autonotebook import tqdm as notebook_tqdm\n",
      "Importing plotly failed. Interactive plots will not work.\n"
     ]
    }
   ],
   "source": [
    "from prophet import Prophet\n"
   ]
  },
  {
   "cell_type": "code",
   "execution_count": 8,
   "metadata": {},
   "outputs": [],
   "source": [
    "df =pd.read_csv(r'C:\\Users\\Yibabe\\Desktop\\10academy_kifiya-AIMweek-11\\data\\cleaned_data.csv')"
   ]
  },
  {
   "cell_type": "code",
   "execution_count": 9,
   "metadata": {},
   "outputs": [
    {
     "data": {
      "text/html": [
       "<div>\n",
       "<style scoped>\n",
       "    .dataframe tbody tr th:only-of-type {\n",
       "        vertical-align: middle;\n",
       "    }\n",
       "\n",
       "    .dataframe tbody tr th {\n",
       "        vertical-align: top;\n",
       "    }\n",
       "\n",
       "    .dataframe thead th {\n",
       "        text-align: right;\n",
       "    }\n",
       "</style>\n",
       "<table border=\"1\" class=\"dataframe\">\n",
       "  <thead>\n",
       "    <tr style=\"text-align: right;\">\n",
       "      <th></th>\n",
       "      <th>Date</th>\n",
       "      <th>Adj Close BND</th>\n",
       "      <th>Adj Close SPY</th>\n",
       "      <th>Adj Close TSLA</th>\n",
       "      <th>Close BND</th>\n",
       "      <th>Close SPY</th>\n",
       "      <th>Close TSLA</th>\n",
       "      <th>High BND</th>\n",
       "      <th>High SPY</th>\n",
       "      <th>High TSLA</th>\n",
       "      <th>Low BND</th>\n",
       "      <th>Low SPY</th>\n",
       "      <th>Low TSLA</th>\n",
       "      <th>Open BND</th>\n",
       "      <th>Open SPY</th>\n",
       "      <th>Open TSLA</th>\n",
       "      <th>Volume BND</th>\n",
       "      <th>Volume SPY</th>\n",
       "      <th>Volume TSLA</th>\n",
       "      <th>Daily_Return</th>\n",
       "    </tr>\n",
       "  </thead>\n",
       "  <tbody>\n",
       "    <tr>\n",
       "      <th>0</th>\n",
       "      <td>2015-01-02 00:00:00+00:00</td>\n",
       "      <td>63.358757</td>\n",
       "      <td>173.173737</td>\n",
       "      <td>14.620667</td>\n",
       "      <td>82.650002</td>\n",
       "      <td>205.429993</td>\n",
       "      <td>14.620667</td>\n",
       "      <td>82.690002</td>\n",
       "      <td>206.880005</td>\n",
       "      <td>14.883333</td>\n",
       "      <td>82.419998</td>\n",
       "      <td>204.179993</td>\n",
       "      <td>14.217333</td>\n",
       "      <td>82.430000</td>\n",
       "      <td>206.380005</td>\n",
       "      <td>14.858000</td>\n",
       "      <td>2218800</td>\n",
       "      <td>121465900</td>\n",
       "      <td>71466000</td>\n",
       "      <td>NaN</td>\n",
       "    </tr>\n",
       "    <tr>\n",
       "      <th>1</th>\n",
       "      <td>2015-01-05 00:00:00+00:00</td>\n",
       "      <td>63.542767</td>\n",
       "      <td>170.046280</td>\n",
       "      <td>14.006000</td>\n",
       "      <td>82.889999</td>\n",
       "      <td>201.720001</td>\n",
       "      <td>14.006000</td>\n",
       "      <td>82.919998</td>\n",
       "      <td>204.369995</td>\n",
       "      <td>14.433333</td>\n",
       "      <td>82.699997</td>\n",
       "      <td>201.350006</td>\n",
       "      <td>13.810667</td>\n",
       "      <td>82.739998</td>\n",
       "      <td>204.169998</td>\n",
       "      <td>14.303333</td>\n",
       "      <td>5820100</td>\n",
       "      <td>169632600</td>\n",
       "      <td>80527500</td>\n",
       "      <td>-0.018060</td>\n",
       "    </tr>\n",
       "    <tr>\n",
       "      <th>2</th>\n",
       "      <td>2015-01-06 00:00:00+00:00</td>\n",
       "      <td>63.726715</td>\n",
       "      <td>168.444626</td>\n",
       "      <td>14.085333</td>\n",
       "      <td>83.129997</td>\n",
       "      <td>199.820007</td>\n",
       "      <td>14.085333</td>\n",
       "      <td>83.379997</td>\n",
       "      <td>202.720001</td>\n",
       "      <td>14.280000</td>\n",
       "      <td>83.029999</td>\n",
       "      <td>198.860001</td>\n",
       "      <td>13.614000</td>\n",
       "      <td>83.029999</td>\n",
       "      <td>202.089996</td>\n",
       "      <td>14.004000</td>\n",
       "      <td>3887600</td>\n",
       "      <td>209151400</td>\n",
       "      <td>93928500</td>\n",
       "      <td>-0.009419</td>\n",
       "    </tr>\n",
       "    <tr>\n",
       "      <th>3</th>\n",
       "      <td>2015-01-07 00:00:00+00:00</td>\n",
       "      <td>63.765030</td>\n",
       "      <td>170.543655</td>\n",
       "      <td>14.063333</td>\n",
       "      <td>83.180000</td>\n",
       "      <td>202.309998</td>\n",
       "      <td>14.063333</td>\n",
       "      <td>83.279999</td>\n",
       "      <td>202.720001</td>\n",
       "      <td>14.318667</td>\n",
       "      <td>83.050003</td>\n",
       "      <td>200.880005</td>\n",
       "      <td>13.985333</td>\n",
       "      <td>83.139999</td>\n",
       "      <td>201.419998</td>\n",
       "      <td>14.223333</td>\n",
       "      <td>2433400</td>\n",
       "      <td>125346700</td>\n",
       "      <td>44526000</td>\n",
       "      <td>0.012461</td>\n",
       "    </tr>\n",
       "    <tr>\n",
       "      <th>4</th>\n",
       "      <td>2015-01-08 00:00:00+00:00</td>\n",
       "      <td>63.665379</td>\n",
       "      <td>173.569992</td>\n",
       "      <td>14.041333</td>\n",
       "      <td>83.050003</td>\n",
       "      <td>205.899994</td>\n",
       "      <td>14.041333</td>\n",
       "      <td>83.110001</td>\n",
       "      <td>206.160004</td>\n",
       "      <td>14.253333</td>\n",
       "      <td>82.970001</td>\n",
       "      <td>203.990005</td>\n",
       "      <td>14.000667</td>\n",
       "      <td>83.110001</td>\n",
       "      <td>204.009995</td>\n",
       "      <td>14.187333</td>\n",
       "      <td>1873400</td>\n",
       "      <td>147217800</td>\n",
       "      <td>51637500</td>\n",
       "      <td>0.017745</td>\n",
       "    </tr>\n",
       "  </tbody>\n",
       "</table>\n",
       "</div>"
      ],
      "text/plain": [
       "                        Date  Adj Close BND  Adj Close SPY  Adj Close TSLA  \\\n",
       "0  2015-01-02 00:00:00+00:00      63.358757     173.173737       14.620667   \n",
       "1  2015-01-05 00:00:00+00:00      63.542767     170.046280       14.006000   \n",
       "2  2015-01-06 00:00:00+00:00      63.726715     168.444626       14.085333   \n",
       "3  2015-01-07 00:00:00+00:00      63.765030     170.543655       14.063333   \n",
       "4  2015-01-08 00:00:00+00:00      63.665379     173.569992       14.041333   \n",
       "\n",
       "   Close BND   Close SPY  Close TSLA   High BND    High SPY  High TSLA  \\\n",
       "0  82.650002  205.429993   14.620667  82.690002  206.880005  14.883333   \n",
       "1  82.889999  201.720001   14.006000  82.919998  204.369995  14.433333   \n",
       "2  83.129997  199.820007   14.085333  83.379997  202.720001  14.280000   \n",
       "3  83.180000  202.309998   14.063333  83.279999  202.720001  14.318667   \n",
       "4  83.050003  205.899994   14.041333  83.110001  206.160004  14.253333   \n",
       "\n",
       "     Low BND     Low SPY   Low TSLA   Open BND    Open SPY  Open TSLA  \\\n",
       "0  82.419998  204.179993  14.217333  82.430000  206.380005  14.858000   \n",
       "1  82.699997  201.350006  13.810667  82.739998  204.169998  14.303333   \n",
       "2  83.029999  198.860001  13.614000  83.029999  202.089996  14.004000   \n",
       "3  83.050003  200.880005  13.985333  83.139999  201.419998  14.223333   \n",
       "4  82.970001  203.990005  14.000667  83.110001  204.009995  14.187333   \n",
       "\n",
       "   Volume BND  Volume SPY  Volume TSLA  Daily_Return  \n",
       "0     2218800   121465900     71466000           NaN  \n",
       "1     5820100   169632600     80527500     -0.018060  \n",
       "2     3887600   209151400     93928500     -0.009419  \n",
       "3     2433400   125346700     44526000      0.012461  \n",
       "4     1873400   147217800     51637500      0.017745  "
      ]
     },
     "execution_count": 9,
     "metadata": {},
     "output_type": "execute_result"
    }
   ],
   "source": [
    "df.head()"
   ]
  },
  {
   "cell_type": "code",
   "execution_count": 10,
   "metadata": {},
   "outputs": [],
   "source": [
    "from sklearn.model_selection import train_test_split\n",
    "\n",
    "# Split data (assuming your data is indexed by date)\n",
    "train_size = int(0.8 * len(df))\n",
    "train, test = df['Close TSLA'][:train_size],df['Close TSLA'][train_size:]"
   ]
  },
  {
   "cell_type": "code",
   "execution_count": 11,
   "metadata": {},
   "outputs": [
    {
     "data": {
      "text/plain": [
       "(1979,)"
      ]
     },
     "execution_count": 11,
     "metadata": {},
     "output_type": "execute_result"
    }
   ],
   "source": [
    "train.shape "
   ]
  },
  {
   "cell_type": "code",
   "execution_count": 12,
   "metadata": {},
   "outputs": [
    {
     "data": {
      "text/plain": [
       "(495,)"
      ]
     },
     "execution_count": 12,
     "metadata": {},
     "output_type": "execute_result"
    }
   ],
   "source": [
    "test.shape"
   ]
  },
  {
   "cell_type": "code",
   "execution_count": 16,
   "metadata": {},
   "outputs": [
    {
     "ename": "ValueError",
     "evalue": "numpy.dtype size changed, may indicate binary incompatibility. Expected 96 from C header, got 88 from PyObject",
     "output_type": "error",
     "traceback": [
      "\u001b[1;31m---------------------------------------------------------------------------\u001b[0m",
      "\u001b[1;31mValueError\u001b[0m                                Traceback (most recent call last)",
      "Cell \u001b[1;32mIn[16], line 1\u001b[0m\n\u001b[1;32m----> 1\u001b[0m \u001b[38;5;28;01mfrom\u001b[39;00m \u001b[38;5;21;01mpmdarima\u001b[39;00m \u001b[38;5;28;01mimport\u001b[39;00m auto_arima\n\u001b[0;32m      3\u001b[0m \u001b[38;5;66;03m# Run auto_arima to find optimal p, d, q values\u001b[39;00m\n\u001b[0;32m      4\u001b[0m model_arima \u001b[38;5;241m=\u001b[39m auto_arima(train, seasonal\u001b[38;5;241m=\u001b[39m\u001b[38;5;28;01mFalse\u001b[39;00m, trace\u001b[38;5;241m=\u001b[39m\u001b[38;5;28;01mTrue\u001b[39;00m, error_action\u001b[38;5;241m=\u001b[39m\u001b[38;5;124m'\u001b[39m\u001b[38;5;124mignore\u001b[39m\u001b[38;5;124m'\u001b[39m, suppress_warnings\u001b[38;5;241m=\u001b[39m\u001b[38;5;28;01mTrue\u001b[39;00m)\n",
      "File \u001b[1;32mc:\\Users\\Yibabe\\Desktop\\10academy_kifiya-AIMweek-11\\env\\Lib\\site-packages\\pmdarima\\__init__.py:52\u001b[0m\n\u001b[0;32m     49\u001b[0m \u001b[38;5;28;01mfrom\u001b[39;00m \u001b[38;5;21;01m.\u001b[39;00m \u001b[38;5;28;01mimport\u001b[39;00m __check_build\n\u001b[0;32m     51\u001b[0m \u001b[38;5;66;03m# Stuff we want at top-level\u001b[39;00m\n\u001b[1;32m---> 52\u001b[0m \u001b[38;5;28;01mfrom\u001b[39;00m \u001b[38;5;21;01m.\u001b[39;00m\u001b[38;5;21;01marima\u001b[39;00m \u001b[38;5;28;01mimport\u001b[39;00m auto_arima, ARIMA, AutoARIMA, StepwiseContext, decompose\n\u001b[0;32m     53\u001b[0m \u001b[38;5;28;01mfrom\u001b[39;00m \u001b[38;5;21;01m.\u001b[39;00m\u001b[38;5;21;01mutils\u001b[39;00m \u001b[38;5;28;01mimport\u001b[39;00m acf, autocorr_plot, c, pacf, plot_acf, plot_pacf, \\\n\u001b[0;32m     54\u001b[0m     tsdisplay\n\u001b[0;32m     55\u001b[0m \u001b[38;5;28;01mfrom\u001b[39;00m \u001b[38;5;21;01m.\u001b[39;00m\u001b[38;5;21;01mutils\u001b[39;00m\u001b[38;5;21;01m.\u001b[39;00m\u001b[38;5;21;01m_show_versions\u001b[39;00m \u001b[38;5;28;01mimport\u001b[39;00m show_versions\n",
      "File \u001b[1;32mc:\\Users\\Yibabe\\Desktop\\10academy_kifiya-AIMweek-11\\env\\Lib\\site-packages\\pmdarima\\arima\\__init__.py:5\u001b[0m\n\u001b[0;32m      1\u001b[0m \u001b[38;5;66;03m# -*- coding: utf-8 -*-\u001b[39;00m\n\u001b[0;32m      2\u001b[0m \u001b[38;5;66;03m#\u001b[39;00m\n\u001b[0;32m      3\u001b[0m \u001b[38;5;66;03m# Author: Taylor Smith <taylor.smith@alkaline-ml.com>\u001b[39;00m\n\u001b[1;32m----> 5\u001b[0m \u001b[38;5;28;01mfrom\u001b[39;00m \u001b[38;5;21;01m.\u001b[39;00m\u001b[38;5;21;01mapprox\u001b[39;00m \u001b[38;5;28;01mimport\u001b[39;00m \u001b[38;5;241m*\u001b[39m\n\u001b[0;32m      6\u001b[0m \u001b[38;5;28;01mfrom\u001b[39;00m \u001b[38;5;21;01m.\u001b[39;00m\u001b[38;5;21;01marima\u001b[39;00m \u001b[38;5;28;01mimport\u001b[39;00m \u001b[38;5;241m*\u001b[39m\n\u001b[0;32m      7\u001b[0m \u001b[38;5;28;01mfrom\u001b[39;00m \u001b[38;5;21;01m.\u001b[39;00m\u001b[38;5;21;01mauto\u001b[39;00m \u001b[38;5;28;01mimport\u001b[39;00m \u001b[38;5;241m*\u001b[39m\n",
      "File \u001b[1;32mc:\\Users\\Yibabe\\Desktop\\10academy_kifiya-AIMweek-11\\env\\Lib\\site-packages\\pmdarima\\arima\\approx.py:9\u001b[0m\n\u001b[0;32m      1\u001b[0m \u001b[38;5;66;03m# -*- coding: utf-8 -*-\u001b[39;00m\n\u001b[0;32m      2\u001b[0m \u001b[38;5;66;03m#\u001b[39;00m\n\u001b[0;32m      3\u001b[0m \u001b[38;5;66;03m# Author: Taylor Smith <taylor.smith@alkaline-ml.com>\u001b[39;00m\n\u001b[0;32m      4\u001b[0m \u001b[38;5;66;03m#\u001b[39;00m\n\u001b[0;32m      5\u001b[0m \u001b[38;5;66;03m# R approx function\u001b[39;00m\n\u001b[0;32m      7\u001b[0m \u001b[38;5;28;01mimport\u001b[39;00m \u001b[38;5;21;01mnumpy\u001b[39;00m \u001b[38;5;28;01mas\u001b[39;00m \u001b[38;5;21;01mnp\u001b[39;00m\n\u001b[1;32m----> 9\u001b[0m \u001b[38;5;28;01mfrom\u001b[39;00m \u001b[38;5;21;01m.\u001b[39;00m\u001b[38;5;21;01m.\u001b[39;00m\u001b[38;5;21;01mutils\u001b[39;00m\u001b[38;5;21;01m.\u001b[39;00m\u001b[38;5;21;01marray\u001b[39;00m \u001b[38;5;28;01mimport\u001b[39;00m c, check_endog\n\u001b[0;32m     10\u001b[0m \u001b[38;5;28;01mfrom\u001b[39;00m \u001b[38;5;21;01m.\u001b[39;00m\u001b[38;5;21;01m.\u001b[39;00m\u001b[38;5;21;01mutils\u001b[39;00m \u001b[38;5;28;01mimport\u001b[39;00m get_callable\n\u001b[0;32m     11\u001b[0m \u001b[38;5;28;01mfrom\u001b[39;00m \u001b[38;5;21;01m.\u001b[39;00m\u001b[38;5;21;01m.\u001b[39;00m\u001b[38;5;21;01mcompat\u001b[39;00m\u001b[38;5;21;01m.\u001b[39;00m\u001b[38;5;21;01mnumpy\u001b[39;00m \u001b[38;5;28;01mimport\u001b[39;00m DTYPE\n",
      "File \u001b[1;32mc:\\Users\\Yibabe\\Desktop\\10academy_kifiya-AIMweek-11\\env\\Lib\\site-packages\\pmdarima\\utils\\__init__.py:5\u001b[0m\n\u001b[0;32m      1\u001b[0m \u001b[38;5;66;03m# -*- coding: utf-8 -*-\u001b[39;00m\n\u001b[0;32m      2\u001b[0m \u001b[38;5;66;03m#\u001b[39;00m\n\u001b[0;32m      3\u001b[0m \u001b[38;5;66;03m# Author: Taylor Smith <taylor.smith@alkaline-ml.com>\u001b[39;00m\n\u001b[1;32m----> 5\u001b[0m \u001b[38;5;28;01mfrom\u001b[39;00m \u001b[38;5;21;01m.\u001b[39;00m\u001b[38;5;21;01marray\u001b[39;00m \u001b[38;5;28;01mimport\u001b[39;00m \u001b[38;5;241m*\u001b[39m\n\u001b[0;32m      6\u001b[0m \u001b[38;5;28;01mfrom\u001b[39;00m \u001b[38;5;21;01m.\u001b[39;00m\u001b[38;5;21;01mmetaestimators\u001b[39;00m \u001b[38;5;28;01mimport\u001b[39;00m \u001b[38;5;241m*\u001b[39m\n\u001b[0;32m      7\u001b[0m \u001b[38;5;28;01mfrom\u001b[39;00m \u001b[38;5;21;01m.\u001b[39;00m\u001b[38;5;21;01mvisualization\u001b[39;00m \u001b[38;5;28;01mimport\u001b[39;00m \u001b[38;5;241m*\u001b[39m\n",
      "File \u001b[1;32mc:\\Users\\Yibabe\\Desktop\\10academy_kifiya-AIMweek-11\\env\\Lib\\site-packages\\pmdarima\\utils\\array.py:13\u001b[0m\n\u001b[0;32m     10\u001b[0m \u001b[38;5;28;01mimport\u001b[39;00m \u001b[38;5;21;01mpandas\u001b[39;00m \u001b[38;5;28;01mas\u001b[39;00m \u001b[38;5;21;01mpd\u001b[39;00m\n\u001b[0;32m     12\u001b[0m \u001b[38;5;28;01mfrom\u001b[39;00m \u001b[38;5;21;01m.\u001b[39;00m\u001b[38;5;21;01m.\u001b[39;00m\u001b[38;5;21;01mcompat\u001b[39;00m \u001b[38;5;28;01mimport\u001b[39;00m DTYPE\n\u001b[1;32m---> 13\u001b[0m \u001b[38;5;28;01mfrom\u001b[39;00m \u001b[38;5;21;01m.\u001b[39;00m\u001b[38;5;21;01m_array\u001b[39;00m \u001b[38;5;28;01mimport\u001b[39;00m C_intgrt_vec\n\u001b[0;32m     15\u001b[0m __all__ \u001b[38;5;241m=\u001b[39m [\n\u001b[0;32m     16\u001b[0m     \u001b[38;5;124m'\u001b[39m\u001b[38;5;124mas_series\u001b[39m\u001b[38;5;124m'\u001b[39m,\n\u001b[0;32m     17\u001b[0m     \u001b[38;5;124m'\u001b[39m\u001b[38;5;124mc\u001b[39m\u001b[38;5;124m'\u001b[39m,\n\u001b[1;32m   (...)\u001b[0m\n\u001b[0;32m     22\u001b[0m     \u001b[38;5;124m'\u001b[39m\u001b[38;5;124mis_iterable\u001b[39m\u001b[38;5;124m'\u001b[39m\n\u001b[0;32m     23\u001b[0m ]\n\u001b[0;32m     26\u001b[0m \u001b[38;5;28;01mdef\u001b[39;00m \u001b[38;5;21mas_series\u001b[39m(x, \u001b[38;5;241m*\u001b[39m\u001b[38;5;241m*\u001b[39mkwargs):\n",
      "File \u001b[1;32mc:\\Users\\Yibabe\\Desktop\\10academy_kifiya-AIMweek-11\\env\\Lib\\site-packages\\pmdarima\\utils\\_array.pyx:1\u001b[0m, in \u001b[0;36minit pmdarima.utils._array\u001b[1;34m()\u001b[0m\n",
      "\u001b[1;31mValueError\u001b[0m: numpy.dtype size changed, may indicate binary incompatibility. Expected 96 from C header, got 88 from PyObject"
     ]
    }
   ],
   "source": [
    "from pmdarima import auto_arima\n",
    "\n",
    "# Run auto_arima to find optimal p, d, q values\n",
    "model_arima = auto_arima(train, seasonal=False, trace=True, error_action='ignore', suppress_warnings=True)\n",
    "model_arima.summary() "
   ]
  },
  {
   "cell_type": "code",
   "execution_count": null,
   "metadata": {},
   "outputs": [],
   "source": []
  }
 ],
 "metadata": {
  "kernelspec": {
   "display_name": "env",
   "language": "python",
   "name": "python3"
  },
  "language_info": {
   "codemirror_mode": {
    "name": "ipython",
    "version": 3
   },
   "file_extension": ".py",
   "mimetype": "text/x-python",
   "name": "python",
   "nbconvert_exporter": "python",
   "pygments_lexer": "ipython3",
   "version": "3.12.5"
  }
 },
 "nbformat": 4,
 "nbformat_minor": 2
}
